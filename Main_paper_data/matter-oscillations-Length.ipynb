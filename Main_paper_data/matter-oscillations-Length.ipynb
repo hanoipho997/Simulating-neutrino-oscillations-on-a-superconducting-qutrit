{
 "cells": [
  {
   "cell_type": "code",
   "execution_count": 1,
   "id": "21ab8622",
   "metadata": {
    "papermill": {
     "duration": 9.571085,
     "end_time": "2022-03-03T16:58:57.594977",
     "exception": false,
     "start_time": "2022-03-03T16:58:48.023892",
     "status": "completed"
    },
    "tags": []
   },
   "outputs": [
    {
     "name": "stderr",
     "output_type": "stream",
     "text": [
      "/opt/conda/lib/python3.8/site-packages/numpy/core/getlimits.py:499: UserWarning: The value of the smallest subnormal for <class 'numpy.float64'> type is zero.\n",
      "  setattr(self, word, getattr(machar, word).flat[0])\n",
      "/opt/conda/lib/python3.8/site-packages/numpy/core/getlimits.py:89: UserWarning: The value of the smallest subnormal for <class 'numpy.float64'> type is zero.\n",
      "  return self._float_to_str(self.smallest_subnormal)\n",
      "/opt/conda/lib/python3.8/site-packages/numpy/core/getlimits.py:499: UserWarning: The value of the smallest subnormal for <class 'numpy.float32'> type is zero.\n",
      "  setattr(self, word, getattr(machar, word).flat[0])\n",
      "/opt/conda/lib/python3.8/site-packages/numpy/core/getlimits.py:89: UserWarning: The value of the smallest subnormal for <class 'numpy.float32'> type is zero.\n",
      "  return self._float_to_str(self.smallest_subnormal)\n",
      "<frozen importlib._bootstrap>:219: RuntimeWarning: scipy._lib.messagestream.MessageStream size changed, may indicate binary incompatibility. Expected 56 from C header, got 64 from PyObject\n",
      "/tmp/ipykernel_129/190194836.py:8: DeprecationWarning: The qiskit.ignis package is deprecated and has been supersceded by the qiskit-experiments project. Refer to the migration guide: https://github.com/Qiskit/qiskit-ignis#migration-guide on how to migrate to the new project.\n",
      "  from qiskit.ignis.verification.tomography import state_tomography_circuits, StateTomographyFitter\n"
     ]
    }
   ],
   "source": [
    "# Importing standard Qiskit modules\n",
    "from qiskit import QuantumCircuit, QuantumRegister, IBMQ, execute, transpile\n",
    "from qiskit.providers.aer import QasmSimulator\n",
    "from qiskit.tools.monitor import job_monitor\n",
    "from qiskit.circuit import Parameter\n",
    "\n",
    "# Import state tomography modules\n",
    "from qiskit.ignis.verification.tomography import state_tomography_circuits, StateTomographyFitter\n",
    "from qiskit.quantum_info import state_fidelity\n",
    "\n",
    "# suppress warnings\n",
    "import warnings\n",
    "warnings.filterwarnings('ignore')\n",
    "# load IBMQ Account data\n",
    "\n",
    "# IBMQ.save_account('96440b89df0e15fcfd74efcb9d39f1fd68bec6cfe98bf1515381a5bd87c3f71eaa13f4d1b534cbc4fab34ed7195463a677463a44191178912d31fc75d2222a80')  # replace TOKEN with your API token string (https://quantum-computing.ibm.com/lab/docs/iql/manage/account/ibmq)\n",
    "provider = IBMQ.load_account()\n",
    "# Get backend for experiment\n",
    "provider = IBMQ.get_provider(hub='ibm-q-community', group='ibmquantumawards', project='open-science-22')\n",
    "jakarta = provider.get_backend('ibmq_jakarta')\n"
   ]
  },
  {
   "cell_type": "code",
   "execution_count": 2,
   "id": "a76f8d1a",
   "metadata": {
    "papermill": {
     "duration": 1.049239,
     "end_time": "2022-03-03T16:58:58.790037",
     "exception": false,
     "start_time": "2022-03-03T16:58:57.740798",
     "status": "completed"
    },
    "tags": []
   },
   "outputs": [
    {
     "name": "stdout",
     "output_type": "stream",
     "text": [
      "Qubit 0 has an estimated frequency of 5.236542844866659 GHz.\n",
      "Qubit 0 has an anharm frequency of 4.896662844866659 GHz.\n"
     ]
    }
   ],
   "source": [
    "from qiskit import pulse\n",
    "import numpy as np\n",
    "pi = np.pi\n",
    "from qiskit.pulse.library import Gaussian\n",
    "from qiskit.pulse.library import Drag\n",
    "\n",
    "import qiskit.pulse as pulse\n",
    "import qiskit.pulse.library as pulse_lib\n",
    "from qiskit.compiler import assemble\n",
    "from qiskit.pulse.library import Waveform\n",
    "from qiskit.tools.monitor import job_monitor\n",
    "from qiskit.pulse import library\n",
    "\n",
    "import warnings\n",
    "warnings.filterwarnings('ignore')\n",
    "from qiskit.tools.jupyter import *\n",
    "%matplotlib inline\n",
    "import matplotlib.pyplot as plt\n",
    "\n",
    "from qiskit import IBMQ\n",
    "# IBMQ.load_account()\n",
    "# provider = IBMQ.get_provider(hub='ibm-q', group='open', project='main')\n",
    "# backend = provider.get_backend('ibmq_armonk')\n",
    "backend = jakarta\n",
    "backend_config = backend.configuration()\n",
    "backend_defaults = backend.defaults()\n",
    "dt = backend_config.dt\n",
    "\n",
    "assert backend_config.open_pulse, \"Backend doesn't support Pulse\"\n",
    "\n",
    "# unit conversion factors -> all backend properties returned in SI (Hz, sec, etc)\n",
    "GHz = 1.0e9 # Gigahertz\n",
    "MHz = 1.0e6 # Megahertz\n",
    "us = 1.0e-6 # Microseconds\n",
    "ns = 1.0e-9 # Nanoseconds\n",
    "\n",
    "qubit = 0 # qubit we will analyze\n",
    "default_qubit_freq = backend_defaults.qubit_freq_est[qubit] # Default qubit frequency in Hz. \n",
    "\n",
    "# scale data (specific to each device)\n",
    "scale_factor = 1e-14\n",
    "\n",
    "# number of shots for our experiments\n",
    "NUM_SHOTS = 512*2\n",
    "### Collect the necessary channels\n",
    "drive_chan = pulse.DriveChannel(qubit)\n",
    "meas_chan = pulse.MeasureChannel(qubit)\n",
    "acq_chan = pulse.AcquireChannel(qubit)\n",
    "cont_chan = pulse.ControlChannel(qubit)\n",
    "\n",
    "def get_job_data(job, average):\n",
    "    \"\"\"Retrieve data from a job that has already run.\n",
    "    Args:\n",
    "        job (Job): The job whose data you want.\n",
    "        average (bool): If True, gets the data assuming data is an average.\n",
    "                        If False, gets the data assuming it is for single shots.\n",
    "    Return:\n",
    "        list: List containing job result data. \n",
    "    \"\"\"\n",
    "    job_results = job.result() # timeout parameter set to 120 s\n",
    "    result_data = []\n",
    "    for i in range(len(job_results.results)):\n",
    "        if average: # get avg data\n",
    "            result_data.append(job_results.get_memory(i)[qubit]*scale_factor) \n",
    "        else: # get single data\n",
    "            result_data.append(job_results.get_memory(i)[:, qubit]*scale_factor)  \n",
    "    return result_data\n",
    "\n",
    "def get_closest_multiple_of_16(num):\n",
    "    \"\"\"Compute the nearest multiple of 16. Needed because pulse enabled devices require \n",
    "    durations which are multiples of 16 samples.\n",
    "    \"\"\"\n",
    "    return (int(num) - (int(num)%16))\n",
    "\n",
    "# Drive pulse parameters (us = microseconds)\n",
    "drive_sigma_us = 0.075                     # This determines the actual width of the gaussian\n",
    "drive_samples_us = drive_sigma_us*4        # This is a truncating parameter, because gaussians don't have \n",
    "                                           # a natural finite length\n",
    "\n",
    "drive_sigma = get_closest_multiple_of_16(drive_sigma_us * us /dt)       # The width of the gaussian in units of dt\n",
    "drive_samples = get_closest_multiple_of_16(drive_samples_us * us /dt)   # The truncating parameter in units of dt\n",
    "\n",
    "# Find out which measurement map index is needed for this qubit\n",
    "meas_map_idx = None\n",
    "for i, measure_group in enumerate(backend_config.meas_map):\n",
    "    if qubit in measure_group:\n",
    "        meas_map_idx = i\n",
    "        break\n",
    "assert meas_map_idx is not None, f\"Couldn't find qubit {qubit} in the meas_map!\"\n",
    "\n",
    "# Get default measurement pulse from instruction schedule map\n",
    "inst_sched_map = backend_defaults.instruction_schedule_map\n",
    "measure = inst_sched_map.get('measure', qubits=backend_config.meas_map[meas_map_idx])\n",
    "\n",
    "f01 = default_qubit_freq\n",
    "f12 = f01 - 0.33988*1e9\n",
    "print(f\"Qubit {qubit} has an estimated frequency of {default_qubit_freq/ GHz} GHz.\")\n",
    "print(f\"Qubit {qubit} has an anharm frequency of {f12/ GHz} GHz.\")\n",
    "\n",
    "cal_qubit_freq = default_qubit_freq\n",
    "\n",
    "drive_duration = drive_samples\n",
    "meas = inst_sched_map.get('measure', qubits=[qubit])"
   ]
  },
  {
   "cell_type": "code",
   "execution_count": 3,
   "id": "6c48305f",
   "metadata": {
    "papermill": {
     "duration": 0.936573,
     "end_time": "2022-03-03T16:58:59.860132",
     "exception": false,
     "start_time": "2022-03-03T16:58:58.923559",
     "status": "completed"
    },
    "tags": []
   },
   "outputs": [],
   "source": [
    "# Qiskit pulse\n",
    "from qiskit.pulse import (MemorySlot, Acquire, DriveChannel, Schedule, Waveform, \n",
    "                          InstructionScheduleMap, Play, MeasureChannel, AcquireChannel)\n",
    "from qiskit.pulse.library import Gaussian\n",
    "from qiskit.qobj.utils import MeasLevel, MeasReturnType\n",
    "from qiskit.scheduler import measure_all\n",
    "from qiskit.visualization.pulse.qcstyle import SchedStyle\n",
    "\n",
    "# Ignis discriminator fitter tools\n",
    "from sklearn.svm import SVC\n",
    "from qiskit.ignis.mitigation.measurement import CompleteMeasFitter, MeasurementFilter\n",
    "from qiskit.ignis.measurement.discriminator.filters import DiscriminationFilter\n",
    "from qiskit.ignis.measurement.discriminator.iq_discriminators import SklearnIQDiscriminator\n",
    "from scipy import interpolate, stats\n",
    "from scipy.optimize import curve_fit\n",
    "from sklearn.model_selection import train_test_split\n",
    "config = backend.configuration()\n",
    "defaults = backend.defaults()\n",
    "inst_map = defaults.instruction_schedule_map\n",
    "style = SchedStyle(figsize=(16, 5))  # schedule style plotting\n",
    "default_qubit_freq = defaults.qubit_freq_est[0] # Default qubit frequency in Hz. \n",
    "xp = inst_map.get('x', (0,)).instructions[0][1].pulse\n",
    "d0 = DriveChannel(0)\n",
    "dt = config.dt\n",
    "shots = 2048\n",
    "num_shots = 2048"
   ]
  },
  {
   "cell_type": "code",
   "execution_count": 4,
   "id": "1624e6d5",
   "metadata": {
    "papermill": {
     "duration": 0.133645,
     "end_time": "2022-03-03T16:59:00.121261",
     "exception": false,
     "start_time": "2022-03-03T16:58:59.987616",
     "status": "completed"
    },
    "tags": []
   },
   "outputs": [
    {
     "data": {
      "text/plain": [
       "Drag(duration=160, amp=(0.19676676363201234+0j), sigma=40, beta=-0.9926309952051675, name='Xp_d0')"
      ]
     },
     "execution_count": 4,
     "metadata": {},
     "output_type": "execute_result"
    }
   ],
   "source": [
    "xp"
   ]
  },
  {
   "cell_type": "code",
   "execution_count": 5,
   "id": "f8cd361d",
   "metadata": {
    "papermill": {
     "duration": 0.174474,
     "end_time": "2022-03-03T16:59:00.435845",
     "exception": false,
     "start_time": "2022-03-03T16:59:00.261371",
     "status": "completed"
    },
    "tags": []
   },
   "outputs": [],
   "source": [
    "import sys\n",
    "import warnings\n",
    "\n",
    "import matplotlib\n",
    "import matplotlib.pyplot as plt\n",
    "import numpy as np\n",
    "from IPython.display import HTML\n",
    "\n",
    "import qiskit.tools.jupyter\n",
    "from qiskit.tools.monitor import job_monitor\n",
    "from qiskit.visualization import SchedStyle\n",
    "\n",
    "# import fitting\n",
    "# import plotting\n",
    "\n",
    "if not sys.warnoptions:\n",
    "    warnings.simplefilter(\"ignore\")"
   ]
  },
  {
   "cell_type": "code",
   "execution_count": 6,
   "id": "23b5043e",
   "metadata": {
    "papermill": {
     "duration": 0.17627,
     "end_time": "2022-03-03T16:59:00.741151",
     "exception": false,
     "start_time": "2022-03-03T16:59:00.564881",
     "status": "completed"
    },
    "tags": []
   },
   "outputs": [],
   "source": [
    "from qiskit.circuit import Parameter  # This is Parameter Class for variable parameters.\n",
    "from scipy.optimize import curve_fit\n",
    "\n",
    "def fit_function(x_values, y_values, function, init_params):\n",
    "    fitparams, conv = curve_fit(function, x_values, y_values, init_params)\n",
    "    y_fit = function(x_values, *fitparams)\n",
    "    return fitparams, y_fit\n",
    "# center data around 0\n",
    "def baseline_remove(values):\n",
    "    return np.array(values) - np.mean(values)\n",
    "scale_factor = 1e-14\n",
    "# Rabi experiment parameters\n",
    "num_rabi_points = 100\n",
    "\n",
    "# Drive amplitude values to iterate over: 50 amplitudes evenly spaced from 0 to 0.75\n",
    "drive_amp_min = -0.51\n",
    "drive_amp_max = 0.51\n",
    "drive_amps = np.linspace(drive_amp_min, drive_amp_max, num_rabi_points)\n"
   ]
  },
  {
   "cell_type": "code",
   "execution_count": 7,
   "id": "5c491ad2",
   "metadata": {
    "papermill": {
     "duration": 0.554064,
     "end_time": "2022-03-03T16:59:01.426307",
     "exception": false,
     "start_time": "2022-03-03T16:59:00.872243",
     "status": "completed"
    },
    "tags": []
   },
   "outputs": [],
   "source": [
    "import pandas as pd\n",
    "import numpy as np\n",
    "import qiskit.pulse as pulse\n",
    "from qiskit.circuit import Parameter\n",
    "\n",
    "from qiskit_experiments.calibration_management.calibrations import Calibrations\n",
    "\n",
    "from qiskit import IBMQ, schedule"
   ]
  },
  {
   "cell_type": "code",
   "execution_count": 8,
   "id": "e535d1a9",
   "metadata": {
    "papermill": {
     "duration": 0.224621,
     "end_time": "2022-03-03T16:59:01.797088",
     "exception": false,
     "start_time": "2022-03-03T16:59:01.572467",
     "status": "completed"
    },
    "tags": []
   },
   "outputs": [],
   "source": [
    "def add_modulation(pulse, freq: float, dt: float, scale: float = 1.) -> Waveform:\n",
    "    \"\"\"\n",
    "    Add a modulation to the pulse.\n",
    "    \n",
    "    Args:\n",
    "        samples: A list of AWG samples to modulate.\n",
    "        freq: The frequency of the modulation to add to samples.\n",
    "        dt: The cycle time.\n",
    "        scale: a factor to scale the samples.\n",
    "        \n",
    "    Returns: SamplePulse with the added modulation.\n",
    "    \"\"\"\n",
    "    \n",
    "    if not isinstance(pulse, Waveform):\n",
    "        samples = pulse.get_waveform().samples\n",
    "    else:\n",
    "        samples = pulse.samples\n",
    "    \n",
    "    modulated_samples = []\n",
    "    for i, amp in enumerate(samples):\n",
    "        modulated_samples.append(scale * amp * np.exp(2.0j*np.pi*freq*i*dt))\n",
    "    \n",
    "    return Waveform(modulated_samples)\n",
    "\n",
    "# measurement_duration_us = 3.409090909090909\n",
    "# measurement_amp = 0.9285714285714286\n",
    "# measurement_duration_us = 4\n",
    "# measurement_amp = 0.91\n",
    "measurement_duration_us = 4.6445\n",
    "measurement_amp = 0.6445\n",
    "measurement_sigma_us = 0.5  # Width of the gaussian part of the rise and fall in us\n",
    "measurement_risefall_us = (\n",
    "        0.1  # Truncating parameter: how many samples to dedicate to the risefall\n",
    "    )\n",
    "measurement_sigma = get_closest_multiple_of_16(measurement_sigma_us * 1e-6 / dt)\n",
    "measurement_risefall = get_closest_multiple_of_16(\n",
    "        measurement_risefall_us * 1e-6 / dt\n",
    "    )\n",
    "measurement_duration = get_closest_multiple_of_16(\n",
    "        measurement_duration_us * 1e-6 / dt\n",
    "    )\n",
    "calibrated_measurement_pulse = pulse_lib.gaussian_square(\n",
    "        duration=measurement_duration,\n",
    "        sigma=measurement_sigma,\n",
    "        amp=measurement_amp,\n",
    "        risefall=measurement_risefall,\n",
    "        name=\"measurement_pulse\",\n",
    ")\n",
    "\n",
    "# Add a measurement stimulus on the measure channel pulse to trigger readout\n",
    "calibrated_measure_schedule = pulse.Play(calibrated_measurement_pulse, meas_chan)\n",
    "\n",
    "# Trigger data acquisition, and store measured values into respective memory slots\n",
    "calibrated_measure_schedule += pulse.Acquire(\n",
    "        calibrated_measurement_pulse.duration,\n",
    "        pulse.AcquireChannel(backend_config.meas_map[meas_map_idx][0]),\n",
    "        pulse.MemorySlot(backend_config.meas_map[meas_map_idx][0]),\n",
    ")\n",
    "meas_freq_shift = -0.075e6\n",
    "meas_pulse= add_modulation(calibrated_measurement_pulse, meas_freq_shift, dt, scale=1)\n",
    "# meas_pulse = calibrated_measurement_pulse\n",
    "meas_sched = Schedule(name='meas %f' % meas_freq_shift)\n",
    "meas_sched += Play(meas_pulse, MeasureChannel(0))\n",
    "meas_sched += Acquire(len(meas_pulse.samples), AcquireChannel(0), MemorySlot(0))"
   ]
  },
  {
   "cell_type": "code",
   "execution_count": 9,
   "id": "52e5fab1",
   "metadata": {
    "papermill": {
     "duration": 0.173416,
     "end_time": "2022-03-03T16:59:02.107192",
     "exception": false,
     "start_time": "2022-03-03T16:59:01.933776",
     "status": "completed"
    },
    "tags": []
   },
   "outputs": [],
   "source": [
    "def get_job_data(job, average: bool, qubit: int, scale_factor=1):\n",
    "    \"\"\"Retrieve data from a job that has already run.\n",
    "    \n",
    "    Args:\n",
    "        job (Job): The job whose data you want.\n",
    "        average: If True, gets the data assuming data is an average.\n",
    "                 If False, gets the data assuming it is for single shots.\n",
    "    Return:\n",
    "        list: List containing job result data. \n",
    "    \"\"\"\n",
    "    job_results = job.result(timeout=3600) # timeout parameter set to 120 s\n",
    "    result_data = []\n",
    "    for i in range(len(job_results.results)):\n",
    "        if average: # get avg data\n",
    "            result_data.append(job_results.get_memory(i)[qubit]*scale_factor) \n",
    "        else: # get single data\n",
    "            result_data.append(job_results.get_memory(i)[:, qubit]*scale_factor)  \n",
    "    return result_data\n",
    "\n",
    "def lorenz(x, a, q_freq, b, c):\n",
    "     return (a / np.pi) * (b / ((x - q_freq)**2 + b**2)) + c"
   ]
  },
  {
   "cell_type": "code",
   "execution_count": 10,
   "id": "5ee7ed68",
   "metadata": {
    "papermill": {
     "duration": 0.16242,
     "end_time": "2022-03-03T16:59:02.416477",
     "exception": false,
     "start_time": "2022-03-03T16:59:02.254057",
     "status": "completed"
    },
    "tags": []
   },
   "outputs": [],
   "source": [
    "def get_closest_multiple_of_16(num):\n",
    "    return int(num + 8) - (int(num + 8) % 16)\n",
    "backend_config = backend.configuration()\n",
    "drive_chan = pulse.DriveChannel(0)\n",
    "\n",
    "# Set measurement channels\n",
    "meas_chan = pulse.MeasureChannel(0)\n",
    "acq_chan = pulse.AcquireChannel(0)\n",
    "qubit = 0\n",
    "meas_map_idx = 0\n",
    "backend_defaults = backend.defaults()\n",
    "backend_config = backend.configuration()\n",
    "drive_chan = DriveChannel(qubit)\n",
    "meas_chan = MeasureChannel(qubit)\n",
    "inst_sched_map = backend_defaults.instruction_schedule_map\n",
    "measure_schedule = inst_sched_map.get(\n",
    "\"measure\", qubits=backend_config.meas_map[qubit])"
   ]
  },
  {
   "cell_type": "code",
   "execution_count": 11,
   "id": "3af2b70a",
   "metadata": {
    "papermill": {
     "duration": 0.134354,
     "end_time": "2022-03-03T16:59:02.657910",
     "exception": false,
     "start_time": "2022-03-03T16:59:02.523556",
     "status": "completed"
    },
    "tags": []
   },
   "outputs": [],
   "source": [
    "anh=-0.33988*1e9"
   ]
  },
  {
   "cell_type": "code",
   "execution_count": 12,
   "id": "2838bc0d",
   "metadata": {
    "papermill": {
     "duration": 0.186666,
     "end_time": "2022-03-03T16:59:04.480213",
     "exception": false,
     "start_time": "2022-03-03T16:59:04.293547",
     "status": "completed"
    },
    "tags": []
   },
   "outputs": [],
   "source": [
    "xp12_scale=0.68501394194472245"
   ]
  },
  {
   "cell_type": "code",
   "execution_count": 13,
   "id": "69d3b222",
   "metadata": {
    "papermill": {
     "duration": 0.822175,
     "end_time": "2022-03-03T16:59:05.438131",
     "exception": false,
     "start_time": "2022-03-03T16:59:04.615956",
     "status": "completed"
    },
    "tags": []
   },
   "outputs": [
    {
     "data": {
      "image/png": "[encoded data removed]",
      "text/plain": [
       "<Figure size 936x380.476 with 1 Axes>"
      ]
     },
     "execution_count": 13,
     "metadata": {},
     "output_type": "execute_result"
    }
   ],
   "source": [
    "anh = f12-f01\n",
    "schedules_cal = []\n",
    "# meas_sched = meas\n",
    "d0 = drive_chan\n",
    "cal0 = Schedule(name='cal_0')\n",
    "cal0 += meas_sched << cal0.duration\n",
    "schedules_cal.append(cal0)\n",
    "\n",
    "cal1 = Schedule(name='cal_1')\n",
    "cal1 += Play(xp, d0) << cal1.duration\n",
    "cal1 += meas_sched << cal1.duration\n",
    "schedules_cal.append(cal1)\n",
    "\n",
    "# Create the calibrated pi-pulse between |1> and |2>\n",
    "xp12add = add_modulation(xp, anh, dt,scale = xp12_scale)\n",
    "cal2 = Schedule(name='cal_2')\n",
    "cal2 += Play(xp, d0)\n",
    "# cal2 += pulse.ShiftFrequency(anh, drive_chan)\n",
    "cal2 += Play(xp12add, d0)\n",
    "cal2 += meas_sched << cal2.duration\n",
    "\n",
    "schedules_cal.append(cal2)\n",
    "schedules_cal[2].draw()"
   ]
  },
  {
   "cell_type": "code",
   "execution_count": 14,
   "id": "ecca8ba9",
   "metadata": {
    "papermill": {
     "duration": 0.176501,
     "end_time": "2022-03-03T16:59:05.796948",
     "exception": false,
     "start_time": "2022-03-03T16:59:05.620447",
     "status": "completed"
    },
    "tags": []
   },
   "outputs": [],
   "source": [
    "pi = np.pi\n",
    "cos = np.cos\n",
    "sin = np.sin\n",
    "exp = np.exp\n",
    "sqrt = np.sqrt\n",
    "def Rx_01(theta):\n",
    "    Rx_01 = np.array([[cos(theta/2)     , -1j*sin(theta/2) , 0],\n",
    "                      [-1j*sin(theta/2) , cos(theta/2)     , 0],\n",
    "                      [0                , 0                , 1]])\n",
    "    return Rx_01\n",
    "\n",
    "def Rx_12(theta):\n",
    "    Rx_12 = np.array([[1 , 0                , 0               ],\n",
    "                      [0 , cos(theta/2)     , -1j*sin(theta/2)],\n",
    "                      [0 , -1j*sin(theta/2) , cos(theta/2)    ]])\n",
    "    return Rx_12\n",
    "\n",
    "def Ry_01(theta):\n",
    "    Ry_01 = np.array([[cos(theta/2) , -sin(theta/2) , 0],\n",
    "                      [sin(theta/2) , cos(theta/2)  , 0],\n",
    "                      [0            , 0             , 1]])\n",
    "    return Ry_01\n",
    "\n",
    "def Ry_12(theta):\n",
    "    Ry_12 = np.array([[1 , 0            , 0            ],\n",
    "                      [0 , cos(theta/2) , -sin(theta/2)],\n",
    "                      [0 , sin(theta/2) , cos(theta/2) ]])\n",
    "    return Ry_12\n",
    "\n",
    "def Rz_01(theta):\n",
    "    Rz_01 = np.array([[exp((-1j*theta)/2) , 0                 , 0],\n",
    "                      [0                  , exp((1j*theta)/2) , 0],\n",
    "                      [0                  , 0                 , 1]])\n",
    "    return Rz_01\n",
    "\n",
    "def Rz_12(theta):\n",
    "    Rz_12 = np.array([[1 , 0                  , 0                ],\n",
    "                      [0 , exp((-1j*theta)/2) , 0                ],\n",
    "                      [0 , 0                  , exp((1j*theta)/2)]])\n",
    "    return Rz_12\n",
    "t12 = np.radians(33.45)\n",
    "t23 = np.radians(42.1)\n",
    "t13 = np.radians(8.62)\n",
    "D21 = 7.42*1e-5\n",
    "D31 = 2.510*1e-3 \n",
    "D32 = D31-D21 ###\n",
    "# Now gate simulator\n",
    "c12 = cos(t12)\n",
    "s12 = sin(t12)\n",
    "c13 = cos(t13)\n",
    "s13 = sin(t13)\n",
    "c23 = cos(t23)\n",
    "s23 = sin(t23)"
   ]
  },
  {
   "cell_type": "code",
   "execution_count": 16,
   "id": "e32dc07e-13aa-441c-925c-79eb7ffc400f",
   "metadata": {
    "papermill": {
     "duration": 0.151916,
     "end_time": "2022-03-03T16:59:06.062597",
     "exception": false,
     "start_time": "2022-03-03T16:59:05.910681",
     "status": "completed"
    },
    "tags": []
   },
   "outputs": [],
   "source": [
    "pi = np.pi\n",
    "cos = np.cos\n",
    "sin = np.sin\n",
    "exp = np.exp\n",
    "sqrt = np.sqrt\n",
    "def Rx01(theta):\n",
    "    Rx_01 = np.array([[cos(theta/2)     , -1j*sin(theta/2)],\n",
    "                      [-1j*sin(theta/2) , cos(theta/2)]])\n",
    "    return Rx_01\n",
    "\n",
    "def Rz01(theta):\n",
    "    Rz_01 = np.array([[exp((-1j*theta)/2) , 0             ],\n",
    "                      [0                  , exp((1j*theta)/2)]\n",
    "                      ])\n",
    "    return Rz_01\n",
    "def P0(phi):\n",
    "    Rz_01 = np.array([[exp(1j*phi) , 0                 , 0],\n",
    "                      [0                  , 1 , 0],\n",
    "                      [0                  , 0                 , 1]])\n",
    "    return Rz_01\n",
    "\n",
    "def P2(theta):\n",
    "    Rz_12 = np.array([[1 , 0                  , 0                ],\n",
    "                      [0 , 1 , 0                ],\n",
    "                      [0 , 0                  , exp((1j*theta))]])\n",
    "    return Rz_12"
   ]
  },
  {
   "cell_type": "code",
   "execution_count": 17,
   "id": "a7d67e5d",
   "metadata": {
    "papermill": {
     "duration": 0.176499,
     "end_time": "2022-03-03T16:59:06.380049",
     "exception": false,
     "start_time": "2022-03-03T16:59:06.203550",
     "status": "completed"
    },
    "tags": []
   },
   "outputs": [],
   "source": [
    "#Rx01 Rx12\n",
    "def rx01(theta):\n",
    "    pulse.play(pulse.Drag(duration=160, amp=xp.amp*theta/pi, sigma=40, beta=0), drive_chan) \n",
    "    return rx01\n",
    "def rx12(theta):\n",
    "    pulse.play(add_modulation(xp, anh, dt,scale = xp12_scale*theta/pi), drive_chan) \n",
    "    return rx12"
   ]
  },
  {
   "cell_type": "code",
   "execution_count": null,
   "id": "df473cf9",
   "metadata": {
    "papermill": {
     "duration": 0.174044,
     "end_time": "2022-03-03T16:59:06.682686",
     "exception": false,
     "start_time": "2022-03-03T16:59:06.508642",
     "status": "completed"
    },
    "tags": []
   },
   "outputs": [],
   "source": []
  },
  {
   "cell_type": "code",
   "execution_count": 18,
   "id": "cddf7c1e",
   "metadata": {
    "papermill": {
     "duration": 0.251162,
     "end_time": "2022-03-03T16:59:07.123232",
     "exception": false,
     "start_time": "2022-03-03T16:59:06.872070",
     "status": "completed"
    },
    "tags": []
   },
   "outputs": [],
   "source": [
    "### Start from electron\n",
    "import matplotlib.pylab as pylab\n",
    "params = {'legend.fontsize': 'x-large',\n",
    "          'figure.figsize': (15, 5),\n",
    "         'axes.labelsize': 'x-large',\n",
    "         'axes.titlesize':'x-large',\n",
    "         'xtick.labelsize':'x-large',\n",
    "         'ytick.labelsize':'x-large'}\n",
    "pylab.rcParams.update(params)\n",
    "import numpy as np\n",
    "import matplotlib as mpl\n",
    "import matplotlib.pyplot as plt\n",
    "from mpl_toolkits.mplot3d import Axes3D\n",
    "# import pandas as pd\n",
    "import seaborn as sns\n",
    "#bodacious colors\n",
    "colors=sns.color_palette(\"rocket\",3)\n",
    "#Ram's colors, if desired\n",
    "seshadri = ['#c3121e', '#0348a1', '#ffb01c', '#027608', '#0193b0', '#9c5300', '#949c01', '#7104b5']\n",
    "#            0sangre,   1neptune,  2pumpkin,  3clover,   4denim,    5cocoa,    6cumin,    7berry"
   ]
  },
  {
   "cell_type": "code",
   "execution_count": 19,
   "id": "005230bf-28d7-468d-ac62-3f112be62ad0",
   "metadata": {},
   "outputs": [],
   "source": [
    "def parameters(a):\n",
    "    Dee = c12**2*D31+s12**2*D32\n",
    "    Dee_t = Dee*sqrt((cos(2*t13)-a/Dee)**2+sin(2*t13)**2)\n",
    "    s13t_sq = 0.5*(1-(Dee*cos(2*t13)-a)/Dee_t)\n",
    "    t13t = np.arcsin(sqrt(s13t_sq))\n",
    "    a12 = 0.5*(a+Dee-Dee_t)\n",
    "    D21t = D21*sqrt((cos(2*t12)-a12/D21)**2 + cos(t13-t13t)**2*sin(2*t12)**2)\n",
    "    s12t_sq = 0.5*(1-(D21*cos(2*t12)-a12)/D21t)\n",
    "    t12t = np.arcsin(sqrt(s12t_sq))\n",
    "    D31t = D31+a/4+0.5*(D21t-D21)+0.75*(Dee_t-Dee)\n",
    "    t23t = t23\n",
    "    return t23t,t13t, t12t, D21t, D31t\n",
    "def NeudCPMatter(dCP, initial, matter, sim):\n",
    "    try:\n",
    "        if initial == 'e':\n",
    "            flavor_initial = [1,0,0]\n",
    "        elif initial == 'm':\n",
    "            flavor_initial = [0,1,0]\n",
    "        elif initial == 't':\n",
    "            flavor_initial = [0,0,1]\n",
    "    except:\n",
    "        print('start from e, m, t only')\n",
    "    t23m, t13m, t12m, D21m, D31m = parameters(matter)\n",
    "    dCPm = dCP\n",
    "    c12m = cos(t12m)\n",
    "    s12m = sin(t12m)\n",
    "    c13m = cos(t13m)\n",
    "    s13m = sin(t13m)\n",
    "    c23m = cos(t23m)\n",
    "    s23m = sin(t23m)\n",
    "    \n",
    "    Um = np.array([[c12m*c13m            , s12m*c13m             , s13m*exp(-1j*dCP)],\n",
    "               [-s12m*c23m-c12m*s23m*s13m*exp(1j*dCP), c12m*c23m-s12m*s23m*s13m*exp(1j*dCP) , s23m*c13m],\n",
    "               [s12m*s23m-c12m*c23m*s13m*exp(1j*dCP) , -c12m*s23m-s12m*c23m*s13m*exp(1j*dCP), c23m*c13m]])\n",
    "    iUm = Um.conj().T\n",
    "    # U1 = R01(pi/2+dCP, a1m)@R12(3*pi/2, a2m)@R01(pi/2+dCP, a3)@R01(pi/2,-2*t12m)\n",
    "    # U1d = R01(pi/2, 2*t12m)@R01(pi/2+dCP, -a3m)@R12(3*pi/2, -a2m)@R01(pi/2+dCP, -a1m)\n",
    "    e_survival1a = []\n",
    "    mu_survival1a = []\n",
    "    tau_survival1a = []\n",
    "    \n",
    "    for l in sim:\n",
    "        evolmatrix = np.diag([1, exp(-1j*D21m*l/(2*E)), exp(-1j*l*D31m/(2*E))])\n",
    "        # flavor = U1@evolmatrix@U1d@flavor_initial\n",
    "        flavor = Um@evolmatrix@iUm@flavor_initial\n",
    "        e_survival1a.append(np.absolute(flavor[0])**2)\n",
    "        mu_survival1a.append(np.absolute(flavor[1])**2)\n",
    "        tau_survival1a.append(np.absolute(flavor[2])**2)\n",
    "    return e_survival1a, mu_survival1a, tau_survival1a"
   ]
  },
  {
   "cell_type": "code",
   "execution_count": 20,
   "id": "09588cf7-ee9a-4133-8b86-6ba5ad876088",
   "metadata": {},
   "outputs": [],
   "source": [
    "pha =   [1.70182699, -6.28318552, -0.04969043,  3.29814726, -6.43057016]"
   ]
  },
  {
   "cell_type": "code",
   "execution_count": 20,
   "id": "a8830f85-4745-4fc2-8b5f-fbf24f239f48",
   "metadata": {},
   "outputs": [
    {
     "data": {
      "image/png": "[encoded data removed]",
      "text/plain": [
       "<Figure size 936x342.34 with 1 Axes>"
      ]
     },
     "execution_count": 20,
     "metadata": {},
     "output_type": "execute_result"
    }
   ],
   "source": [
    "# pha 7\n",
    "matter = 0\n",
    "t23m, t13m, t12m, D21m, D31m = parameters(matter)\n",
    "c12m = cos(t12m)\n",
    "s12m = sin(t12m)\n",
    "c13m = cos(t13m)\n",
    "s13m = sin(t13m)\n",
    "c23m = cos(t23m)\n",
    "s23m = sin(t23m)\n",
    "E = 0.2*5\n",
    "dCP = 0\n",
    "L = 295\n",
    "conv = 5\n",
    "Lmin = 0\n",
    "Lmax = 34000\n",
    "\n",
    "timestep = 297\n",
    "Lreal = np.linspace(Lmin,Lmax,timestep)\n",
    "a2 = 2*np.arccos(cos(t13m)*cos(t23m))\n",
    "a1 = -2*np.arccos(cos(t13m)*sin(t23m)/sin(a2/2))\n",
    "a3 = 2*np.arccos(cos(a1/2)/cos(t13m))\n",
    "schedules = [cal0, cal1, cal2]\n",
    "\n",
    "for ii, l in enumerate(Lreal):\n",
    "  \n",
    "    d2 = D21m*l*conv/(2*E)\n",
    "    d3 = D31m*l*conv/(2*E)\n",
    "    alpha = d2\n",
    "    beta = -d2+d3\n",
    "    with pulse.build(backend=backend, default_alignment=\"sequential\") as neu_sched:\n",
    "        ## PMNS dagger\n",
    "        pulse.play(xp, drive_chan)\n",
    "        with pulse.phase_offset(pi/2, drive_chan):\n",
    "            rx01(-a1)\n",
    "        with pulse.phase_offset((1.5*pi-pha[0])%(2*pi) , drive_chan):\n",
    "            rx12(-a2)\n",
    "        with pulse.phase_offset((pi/2-pha[1])%(2*pi), drive_chan):\n",
    "            rx01(-a3+2*t12m)\n",
    "        ## evolution x PMNS\n",
    "        with pulse.phase_offset((dCP+alpha+pi/2-pha[2])%(2*pi) , drive_chan):\n",
    "            rx01(a3-2*t12m)\n",
    "        with pulse.phase_offset((beta+1.5*pi-pha[3])%(2*pi), drive_chan):\n",
    "            rx12(a2)\n",
    "        with pulse.phase_offset((alpha+pi/2-pha[4])%(2*pi), drive_chan):\n",
    "            rx01(a1)\n",
    "        pulse.call(meas_sched)\n",
    "    schedules.append(neu_sched)\n",
    "schedules[-3].draw()"
   ]
  },
  {
   "cell_type": "code",
   "execution_count": 22,
   "id": "6e1590fa-ac84-421f-b8a0-a8c89a501f80",
   "metadata": {},
   "outputs": [
    {
     "data": {
      "image/png": "[encoded data removed]",
      "text/plain": [
       "<Figure size 936x342.108 with 1 Axes>"
      ]
     },
     "execution_count": 22,
     "metadata": {},
     "output_type": "execute_result"
    }
   ],
   "source": [
    "# pha 7\n",
    "matter = 1e-5\n",
    "t23m, t13m, t12m, D21m, D31m = parameters(matter)\n",
    "c12m = cos(t12m)\n",
    "s12m = sin(t12m)\n",
    "c13m = cos(t13m)\n",
    "s13m = sin(t13m)\n",
    "c23m = cos(t23m)\n",
    "s23m = sin(t23m)\n",
    "E = 0.2*5\n",
    "dCP = 0\n",
    "L = 295\n",
    "t = L\n",
    "conv = 5\n",
    "Lmin = 0\n",
    "Lmax = 34000\n",
    "\n",
    "timestep = 297\n",
    "Lreal = np.linspace(Lmin,Lmax,timestep)\n",
    "a2 = 2*np.arccos(cos(t13m)*cos(t23m))\n",
    "a1 = -2*np.arccos(cos(t13m)*sin(t23m)/sin(a2/2))\n",
    "a3 = 2*np.arccos(cos(a1/2)/cos(t13m))\n",
    "schedules = [cal0, cal1, cal2]\n",
    "\n",
    "for ii, l in enumerate(Lreal):\n",
    "  \n",
    "    d2 = D21m*l*conv/(2*E)\n",
    "    d3 = D31m*l*conv/(2*E)\n",
    "    alpha = d2\n",
    "    beta = -d2+d3\n",
    "    with pulse.build(backend=backend, default_alignment=\"sequential\") as neu_sched:\n",
    "        ## PMNS dagger\n",
    "        pulse.play(xp, drive_chan)\n",
    "        with pulse.phase_offset(pi/2, drive_chan):\n",
    "            rx01(-a1)\n",
    "        with pulse.phase_offset((1.5*pi-pha[0])%(2*pi) , drive_chan):\n",
    "            rx12(-a2)\n",
    "        with pulse.phase_offset((pi/2-pha[1])%(2*pi), drive_chan):\n",
    "            rx01(-a3+2*t12m)\n",
    "        ## evolution x PMNS\n",
    "        with pulse.phase_offset((dCP+alpha+pi/2-pha[2])%(2*pi) , drive_chan):\n",
    "            rx01(a3-2*t12m)\n",
    "        with pulse.phase_offset((beta+1.5*pi-pha[3])%(2*pi), drive_chan):\n",
    "            rx12(a2)\n",
    "        with pulse.phase_offset((alpha+pi/2-pha[4])%(2*pi), drive_chan):\n",
    "            rx01(a1)\n",
    "        pulse.call(meas_sched)\n",
    "    schedules.append(neu_sched)\n",
    "schedules[-3].draw()"
   ]
  },
  {
   "cell_type": "code",
   "execution_count": 24,
   "id": "b460f59b-eb95-479d-b806-d04e5f007a5e",
   "metadata": {},
   "outputs": [
    {
     "data": {
      "image/png": "[encoded data removed]",
      "text/plain": [
       "<Figure size 936x342.181 with 1 Axes>"
      ]
     },
     "execution_count": 24,
     "metadata": {},
     "output_type": "execute_result"
    }
   ],
   "source": [
    "# pha 7\n",
    "matter = 1e-4\n",
    "t23m, t13m, t12m, D21m, D31m = parameters(matter)\n",
    "c12m = cos(t12m)\n",
    "s12m = sin(t12m)\n",
    "c13m = cos(t13m)\n",
    "s13m = sin(t13m)\n",
    "c23m = cos(t23m)\n",
    "s23m = sin(t23m)\n",
    "E = 0.2\n",
    "dCP = 0\n",
    "L = 295\n",
    "conv = 5\n",
    "Lmin = 0\n",
    "Lmax = 34000\n",
    "\n",
    "timestep = 297\n",
    "Lreal = np.linspace(Lmin,Lmax,timestep)\n",
    "a2 = 2*np.arccos(cos(t13m)*cos(t23m))\n",
    "a1 = -2*np.arccos(cos(t13m)*sin(t23m)/sin(a2/2))\n",
    "a3 = 2*np.arccos(cos(a1/2)/cos(t13m))\n",
    "schedules = [cal0, cal1, cal2]\n",
    "\n",
    "for ii, l in enumerate(Lreal):\n",
    "  \n",
    "    d2 = D21m*l*conv/(2*E)\n",
    "    d3 = D31m*l*conv/(2*E)\n",
    "    alpha = d2\n",
    "    beta = -d2+d3\n",
    "    with pulse.build(backend=backend, default_alignment=\"sequential\") as neu_sched:\n",
    "        ## PMNS dagger\n",
    "        pulse.play(xp, drive_chan)\n",
    "        with pulse.phase_offset(pi/2, drive_chan):\n",
    "            rx01(-a1)\n",
    "        with pulse.phase_offset((1.5*pi-pha[0])%(2*pi) , drive_chan):\n",
    "            rx12(-a2)\n",
    "        with pulse.phase_offset((pi/2-pha[1])%(2*pi), drive_chan):\n",
    "            rx01(-a3+2*t12m)\n",
    "        ## evolution x PMNS\n",
    "        with pulse.phase_offset((dCP+alpha+pi/2-pha[2])%(2*pi) , drive_chan):\n",
    "            rx01(a3-2*t12m)\n",
    "        with pulse.phase_offset((beta+1.5*pi-pha[3])%(2*pi), drive_chan):\n",
    "            rx12(a2)\n",
    "        with pulse.phase_offset((alpha+pi/2-pha[4])%(2*pi), drive_chan):\n",
    "            rx01(a1)\n",
    "        pulse.call(meas_sched)\n",
    "    schedules.append(neu_sched)\n",
    "schedules[-3].draw()"
   ]
  },
  {
   "cell_type": "code",
   "execution_count": 21,
   "id": "1f4b5894-5d55-4b07-87cd-108d6148c993",
   "metadata": {},
   "outputs": [
    {
     "data": {
      "image/png": "[encoded data removed]",
      "text/plain": [
       "<Figure size 936x355.999 with 1 Axes>"
      ]
     },
     "execution_count": 21,
     "metadata": {},
     "output_type": "execute_result"
    }
   ],
   "source": [
    "# pha 7\n",
    "matter = 1e-3\n",
    "t23m, t13m, t12m, D21m, D31m = parameters(matter)\n",
    "c12m = cos(t12m)\n",
    "s12m = sin(t12m)\n",
    "c13m = cos(t13m)\n",
    "s13m = sin(t13m)\n",
    "c23m = cos(t23m)\n",
    "s23m = sin(t23m)\n",
    "E = 0.2\n",
    "dCP = 0\n",
    "L = 295\n",
    "conv = 5\n",
    "Lmin = 0\n",
    "Lmax = 34000\n",
    "\n",
    "timestep = 297\n",
    "Lreal = np.linspace(Lmin,Lmax,timestep)\n",
    "a2 = 2*np.arccos(cos(t13m)*cos(t23m))\n",
    "a1 = -2*np.arccos(cos(t13m)*sin(t23m)/sin(a2/2))\n",
    "a3 = 2*np.arccos(cos(a1/2)/cos(t13m))\n",
    "schedules = [cal0, cal1, cal2]\n",
    "\n",
    "for ii, l in enumerate(Lreal):\n",
    "  \n",
    "    d2 = D21m*l*conv/(2*E)\n",
    "    d3 = D31m*l*conv/(2*E)\n",
    "    alpha = d2\n",
    "    beta = -d2+d3\n",
    "    with pulse.build(backend=backend, default_alignment=\"sequential\") as neu_sched:\n",
    "        ## PMNS dagger\n",
    "        pulse.play(xp, drive_chan)\n",
    "        with pulse.phase_offset(pi/2, drive_chan):\n",
    "            rx01(-a1)\n",
    "        with pulse.phase_offset((1.5*pi-pha[0])%(2*pi) , drive_chan):\n",
    "            rx12(-a2)\n",
    "        with pulse.phase_offset((pi/2-pha[1])%(2*pi), drive_chan):\n",
    "            rx01(-a3+2*t12m)\n",
    "        ## evolution x PMNS\n",
    "        with pulse.phase_offset((dCP+alpha+pi/2-pha[2])%(2*pi) , drive_chan):\n",
    "            rx01(a3-2*t12m)\n",
    "        with pulse.phase_offset((beta+1.5*pi-pha[3])%(2*pi), drive_chan):\n",
    "            rx12(a2)\n",
    "        with pulse.phase_offset((alpha+pi/2-pha[4])%(2*pi), drive_chan):\n",
    "            rx01(a1)\n",
    "        pulse.call(meas_sched)\n",
    "    schedules.append(neu_sched)\n",
    "schedules[-3].draw()"
   ]
  },
  {
   "cell_type": "code",
   "execution_count": 34,
   "id": "ac854e39",
   "metadata": {
    "papermill": {
     "duration": null,
     "end_time": null,
     "exception": null,
     "start_time": null,
     "status": "pending"
    },
    "tags": []
   },
   "outputs": [
    {
     "name": "stdout",
     "output_type": "stream",
     "text": [
      "6249de06e978c7f484fb2059\n",
      "Job Status: job is queued (114)   "
     ]
    },
    {
     "ename": "KeyboardInterrupt",
     "evalue": "",
     "output_type": "error",
     "traceback": [
      "\u001b[0;31m---------------------------------------------------------------------------\u001b[0m",
      "\u001b[0;31mKeyboardInterrupt\u001b[0m                         Traceback (most recent call last)",
      "Input \u001b[0;32mIn [34]\u001b[0m, in \u001b[0;36m<cell line: 8>\u001b[0;34m()\u001b[0m\n\u001b[1;32m      6\u001b[0m \u001b[38;5;28mprint\u001b[39m(job\u001b[38;5;241m.\u001b[39mjob_id())\n\u001b[1;32m      7\u001b[0m \u001b[38;5;28;01mfrom\u001b[39;00m \u001b[38;5;21;01mqiskit\u001b[39;00m\u001b[38;5;21;01m.\u001b[39;00m\u001b[38;5;21;01mtools\u001b[39;00m\u001b[38;5;21;01m.\u001b[39;00m\u001b[38;5;21;01mmonitor\u001b[39;00m \u001b[38;5;28;01mimport\u001b[39;00m job_monitor\n\u001b[0;32m----> 8\u001b[0m \u001b[43mjob_monitor\u001b[49m\u001b[43m(\u001b[49m\u001b[43mjob\u001b[49m\u001b[43m)\u001b[49m\n",
      "File \u001b[0;32m/opt/conda/lib/python3.8/site-packages/qiskit/tools/monitor/job_monitor.py:89\u001b[0m, in \u001b[0;36mjob_monitor\u001b[0;34m(job, interval, quiet, output, line_discipline)\u001b[0m\n\u001b[1;32m     86\u001b[0m \u001b[38;5;28;01melse\u001b[39;00m:\n\u001b[1;32m     87\u001b[0m     _interval_set \u001b[38;5;241m=\u001b[39m \u001b[38;5;28;01mTrue\u001b[39;00m\n\u001b[0;32m---> 89\u001b[0m \u001b[43m_text_checker\u001b[49m\u001b[43m(\u001b[49m\n\u001b[1;32m     90\u001b[0m \u001b[43m    \u001b[49m\u001b[43mjob\u001b[49m\u001b[43m,\u001b[49m\u001b[43m \u001b[49m\u001b[43minterval\u001b[49m\u001b[43m,\u001b[49m\u001b[43m \u001b[49m\u001b[43m_interval_set\u001b[49m\u001b[43m,\u001b[49m\u001b[43m \u001b[49m\u001b[43mquiet\u001b[49m\u001b[38;5;241;43m=\u001b[39;49m\u001b[43mquiet\u001b[49m\u001b[43m,\u001b[49m\u001b[43m \u001b[49m\u001b[43moutput\u001b[49m\u001b[38;5;241;43m=\u001b[39;49m\u001b[43moutput\u001b[49m\u001b[43m,\u001b[49m\u001b[43m \u001b[49m\u001b[43mline_discipline\u001b[49m\u001b[38;5;241;43m=\u001b[39;49m\u001b[43mline_discipline\u001b[49m\n\u001b[1;32m     91\u001b[0m \u001b[43m\u001b[49m\u001b[43m)\u001b[49m\n",
      "File \u001b[0;32m/opt/conda/lib/python3.8/site-packages/qiskit/tools/monitor/job_monitor.py:44\u001b[0m, in \u001b[0;36m_text_checker\u001b[0;34m(job, interval, _interval_set, quiet, output, line_discipline)\u001b[0m\n\u001b[1;32m     42\u001b[0m     \u001b[38;5;28mprint\u001b[39m(\u001b[38;5;124m\"\u001b[39m\u001b[38;5;132;01m{}\u001b[39;00m\u001b[38;5;132;01m{}\u001b[39;00m\u001b[38;5;124m: \u001b[39m\u001b[38;5;132;01m{}\u001b[39;00m\u001b[38;5;124m\"\u001b[39m\u001b[38;5;241m.\u001b[39mformat(line_discipline, \u001b[38;5;124m\"\u001b[39m\u001b[38;5;124mJob Status\u001b[39m\u001b[38;5;124m\"\u001b[39m, msg), end\u001b[38;5;241m=\u001b[39m\u001b[38;5;124m\"\u001b[39m\u001b[38;5;124m\"\u001b[39m, file\u001b[38;5;241m=\u001b[39moutput)\n\u001b[1;32m     43\u001b[0m \u001b[38;5;28;01mwhile\u001b[39;00m status\u001b[38;5;241m.\u001b[39mname \u001b[38;5;129;01mnot\u001b[39;00m \u001b[38;5;129;01min\u001b[39;00m [\u001b[38;5;124m\"\u001b[39m\u001b[38;5;124mDONE\u001b[39m\u001b[38;5;124m\"\u001b[39m, \u001b[38;5;124m\"\u001b[39m\u001b[38;5;124mCANCELLED\u001b[39m\u001b[38;5;124m\"\u001b[39m, \u001b[38;5;124m\"\u001b[39m\u001b[38;5;124mERROR\u001b[39m\u001b[38;5;124m\"\u001b[39m]:\n\u001b[0;32m---> 44\u001b[0m     \u001b[43mtime\u001b[49m\u001b[38;5;241;43m.\u001b[39;49m\u001b[43msleep\u001b[49m\u001b[43m(\u001b[49m\u001b[43minterval\u001b[49m\u001b[43m)\u001b[49m\n\u001b[1;32m     45\u001b[0m     status \u001b[38;5;241m=\u001b[39m job\u001b[38;5;241m.\u001b[39mstatus()\n\u001b[1;32m     46\u001b[0m     msg \u001b[38;5;241m=\u001b[39m status\u001b[38;5;241m.\u001b[39mvalue\n",
      "\u001b[0;31mKeyboardInterrupt\u001b[0m: "
     ]
    }
   ],
   "source": [
    "shots = 1024*8\n",
    "qobj = assemble(schedules, backend, meas_level=1, \n",
    "                meas_return=MeasReturnType.SINGLE,\n",
    "                shots=shots, rep_delay=0.0005)\n",
    "job = backend.run(qobj)\n",
    "print(job.job_id())\n",
    "from qiskit.tools.monitor import job_monitor\n",
    "job_monitor(job)"
   ]
  },
  {
   "cell_type": "code",
   "execution_count": null,
   "id": "ffd36cad-1cec-4323-b52f-5c04b1d11fc8",
   "metadata": {},
   "outputs": [],
   "source": [
    "# calibrated_measurement_pulse _ MUON \n",
    "6249da6a7130e146f25b2dff\n",
    "6249db59f9156f0727cc0311\n",
    "6249db929962251fb18bb609\n",
    "6249dbc8b3213d0788c062de"
   ]
  },
  {
   "cell_type": "code",
   "execution_count": 29,
   "id": "c85af5a7-06f8-4df9-99de-26b9cf0603f0",
   "metadata": {},
   "outputs": [],
   "source": [
    "# job = backend.retrieve_job('6249db929962251fb18bb609')\n",
    "# job = backend.retrieve_job('6249dd471a95e078ca5cdd6f')\n",
    "\n",
    "job = backend.retrieve_job('6249db929962251fb18bb609')\n",
    "job_result = job.result(timeout=3600)"
   ]
  },
  {
   "cell_type": "code",
   "execution_count": null,
   "id": "f2c6c206-82b6-4014-b3a6-369cd9b6fd1d",
   "metadata": {
    "papermill": {
     "duration": null,
     "end_time": null,
     "exception": null,
     "start_time": null,
     "status": "pending"
    },
    "tags": []
   },
   "outputs": [],
   "source": [
    "import time\n",
    "import warnings\n",
    "from pathlib import Path\n",
    "timestr = time.strftime(\"%Y%m%d-%H%M%S\")\n",
    "print(\"Time label for data saved throughout this experiment:\" + timestr)\n",
    "data_folder = Path('/home/jovyan/NO/data') # CHANGE TO YOUR DIRECTORY"
   ]
  },
  {
   "cell_type": "code",
   "execution_count": null,
   "id": "b009a402-99cd-427d-a2ae-13a8b2b88931",
   "metadata": {
    "papermill": {
     "duration": null,
     "end_time": null,
     "exception": null,
     "start_time": null,
     "status": "pending"
    },
    "tags": []
   },
   "outputs": [],
   "source": [
    "# raw_data_list = job.result()\n",
    "import jsonpickle\n",
    "def save_var(file_name, var):\n",
    "    # Save a single variable to a file using jsonpickle\n",
    "    f = open(file_name, \"w+\")\n",
    "    to_write = jsonpickle.encode(var)\n",
    "    f.write(to_write)\n",
    "    f.close()\n",
    "\n",
    "def load_var(file_name):\n",
    "    # Return a variable from a json file\n",
    "    f = open(file_name, \"r+\")\n",
    "    encoded = f.read()\n",
    "    decoded = jsonpickle.decode(encoded)\n",
    "    f.close()\n",
    "    return decoded"
   ]
  },
  {
   "cell_type": "code",
   "execution_count": 30,
   "id": "dc0893e1-937e-4955-8411-9afcfb33f47a",
   "metadata": {
    "papermill": {
     "duration": null,
     "end_time": null,
     "exception": null,
     "start_time": null,
     "status": "pending"
    },
    "tags": []
   },
   "outputs": [
    {
     "name": "stdout",
     "output_type": "stream",
     "text": [
      "[[0.96533203 0.03222656 0.00866699]\n",
      " [0.0090332  0.92993164 0.05529785]\n",
      " [0.02563477 0.0378418  0.93603516]]\n"
     ]
    }
   ],
   "source": [
    "shots = 2048*4\n",
    "cal_result_disc = job.result(timeout=3600)\n",
    "geom_result = cal_result_disc\n",
    "# [cal0, cal1, cal2]\n",
    "svc = SVC(C=0.01, kernel=\"rbf\", gamma=\"scale\")\n",
    "svc_discriminator = SklearnIQDiscriminator(svc, geom_result, [0], ['0', '1', '10'])\n",
    "filter012 = DiscriminationFilter(svc_discriminator)\n",
    "# Apply discriminator\n",
    "geom_discriminated = filter012.apply(geom_result)\n",
    "cal_counts = filter012.apply(cal_result_disc).get_counts()\n",
    "cal_matrix = np.array([[cal_counts[0].get('0',0), cal_counts[1].get('0',0), cal_counts[2].get('0',0)],\n",
    "                       [cal_counts[0].get('1',0), cal_counts[1].get('1',0), cal_counts[2].get('1',0)],\n",
    "                       [cal_counts[0].get('10',0), cal_counts[1].get('10',0), cal_counts[2].get('10',0)]])/shots\n",
    "meas_filter = MeasurementFilter(cal_matrix, ['0', '1', '10'])\n",
    "print(cal_matrix)\n",
    "# Mitigate readout errors\n",
    "geom_mitigated = meas_filter.apply(geom_discriminated)\n",
    "# Compute the population counts\n",
    "counts = geom_mitigated.get_counts()"
   ]
  },
  {
   "cell_type": "code",
   "execution_count": 31,
   "id": "03579ad8-d8ac-40b8-9725-89fcfbf9e629",
   "metadata": {
    "papermill": {
     "duration": null,
     "end_time": null,
     "exception": null,
     "start_time": null,
     "status": "pending"
    },
    "tags": []
   },
   "outputs": [],
   "source": [
    "pop0p = [cnt.get('0',0)/shots for cnt in counts[3:]]\n",
    "pop1p = [cnt.get('1',0)/shots for cnt in counts[3:]]\n",
    "pop2p = [cnt.get('10',0)/shots for cnt in counts[3:]]"
   ]
  },
  {
   "cell_type": "code",
   "execution_count": 41,
   "id": "bf23c0f0-77e3-41e5-b49d-0ea909a19f1e",
   "metadata": {
    "papermill": {
     "duration": null,
     "end_time": null,
     "exception": null,
     "start_time": null,
     "status": "pending"
    },
    "tags": []
   },
   "outputs": [],
   "source": [
    "pop0 = [cnt.get('0',0)/shots for cnt in counts[3:]]\n",
    "pop1 = [cnt.get('1',0)/shots for cnt in counts[3:]]\n",
    "pop2 = [cnt.get('10',0)/shots for cnt in counts[3:]]"
   ]
  },
  {
   "cell_type": "code",
   "execution_count": 53,
   "id": "47cb0eb7-03fd-40d8-a4cf-22153e03a55f",
   "metadata": {},
   "outputs": [],
   "source": [
    "pop0p1 = [cnt.get('0',0)/shots for cnt in counts[3:]]\n",
    "pop1p1 = [cnt.get('1',0)/shots for cnt in counts[3:]]\n",
    "pop2p1 = [cnt.get('10',0)/shots for cnt in counts[3:]]"
   ]
  },
  {
   "cell_type": "code",
   "execution_count": 28,
   "id": "d6674f57-38fa-4862-870f-6112f2b5eef6",
   "metadata": {},
   "outputs": [],
   "source": [
    "pop0t = [cnt.get('0',0)/shots for cnt in counts[3:]]\n",
    "pop1t = [cnt.get('1',0)/shots for cnt in counts[3:]]\n",
    "pop2t = [cnt.get('10',0)/shots for cnt in counts[3:]]"
   ]
  },
  {
   "cell_type": "code",
   "execution_count": 24,
   "id": "a8c7f024-f1c1-47ab-b418-4e4e79c676db",
   "metadata": {},
   "outputs": [],
   "source": [
    "pop0p3 = [cnt.get('0',0)/shots for cnt in counts[3:]]\n",
    "pop1p3 = [cnt.get('1',0)/shots for cnt in counts[3:]]\n",
    "pop2p3 = [cnt.get('10',0)/shots for cnt in counts[3:]]"
   ]
  },
  {
   "cell_type": "code",
   "execution_count": 28,
   "id": "2b1c44a5-32c4-4cb8-a29d-cab5a6abf870",
   "metadata": {
    "papermill": {
     "duration": null,
     "end_time": null,
     "exception": null,
     "start_time": null,
     "status": "pending"
    },
    "tags": []
   },
   "outputs": [
    {
     "data": {
      "text/plain": [
       "(array([[ 1.-0.j,  0.-0.j,  0.+0.j],\n",
       "        [ 0.-0.j,  1.+0.j, -0.+0.j],\n",
       "        [ 0.-0.j,  0.-0.j,  1.+0.j]]),\n",
       " array([[ 1.+0.j, -0.-0.j, -0.+0.j],\n",
       "        [-0.+0.j,  1.+0.j,  0.+0.j],\n",
       "        [-0.+0.j,  0.-0.j,  1.+0.j]]))"
      ]
     },
     "execution_count": 28,
     "metadata": {},
     "output_type": "execute_result"
    }
   ],
   "source": [
    "def R01(phi, theta):\n",
    "    M = P0(-phi)@Rx_01(theta)@P0(phi)\n",
    "    return M\n",
    "def R12(phi, theta):\n",
    "    M = P2(phi)@Rx_12(theta)@P2(-phi)\n",
    "    return M\n",
    "a2m = 2*np.arccos(cos(t13m)*cos(t23m))\n",
    "a1m = -2*np.arccos(cos(t13m)*sin(t23m)/sin(a2/2))\n",
    "a3m = 2*np.arccos(cos(a1/2)/cos(t13m))\n",
    "U1 = R01(pi/2+dCP, a1m)@R12(3*pi/2, a2m)@R01(pi/2+dCP, a3)@R01(pi/2,-2*t12m)\n",
    "U1d = R01(pi/2, 2*t12m)@R01(pi/2+dCP, -a3)@R12(3*pi/2, -a2m)@R01(pi/2+dCP, -a1m)\n",
    "np.round(U1@U1d,3), np.round(U1d@U1,3)"
   ]
  },
  {
   "cell_type": "code",
   "execution_count": 30,
   "id": "99238883-f9c2-4e83-ad3e-c5a2f3b6ca3f",
   "metadata": {},
   "outputs": [],
   "source": [
    "np.savetxt('/home/jovyan/AprilData/pop0tau.txt',(pop0t,pop1t,pop2t))"
   ]
  },
  {
   "cell_type": "code",
   "execution_count": 25,
   "id": "9de57cb4-1a6e-4903-9934-1eb780a3f17f",
   "metadata": {},
   "outputs": [],
   "source": [
    "np.savetxt('/home/jovyan/AprilData/pop_muon_matter_power_minus3.txt',(pop0p3,pop1p3,pop2p3))"
   ]
  },
  {
   "cell_type": "code",
   "execution_count": 32,
   "id": "22aab80c-5808-4078-80ea-8a153fcb65ab",
   "metadata": {},
   "outputs": [],
   "source": [
    "np.savetxt('/home/jovyan/AprilData/pop_muon_matter_power_minus5.txt',(pop0p,pop1p,pop2p))"
   ]
  }
 ],
 "metadata": {
  "kernelspec": {
   "display_name": "Python 3 (ipykernel)",
   "language": "python",
   "name": "python3"
  },
  "language_info": {
   "codemirror_mode": {
    "name": "ipython",
    "version": 3
   },
   "file_extension": ".py",
   "mimetype": "text/x-python",
   "name": "python",
   "nbconvert_exporter": "python",
   "pygments_lexer": "ipython3",
   "version": "3.8.13"
  },
  "papermill": {
   "default_parameters": {},
   "duration": 25.570484,
   "end_time": "2022-03-03T16:59:09.443978",
   "environment_variables": {},
   "exception": true,
   "input_path": "/home/jovyan/NO/gate_test_jarkata_qubit0.ipynb",
   "output_path": "/home/jovyan/NO/gate_test_jarkata_qubit0-background-results.ipynb",
   "parameters": {},
   "start_time": "2022-03-03T16:58:43.873494",
   "version": "2.3.3"
  },
  "widgets": {
   "application/vnd.jupyter.widget-state+json": {
    "state": {},
    "version_major": 2,
    "version_minor": 0
   }
  }
 },
 "nbformat": 4,
 "nbformat_minor": 5
}
